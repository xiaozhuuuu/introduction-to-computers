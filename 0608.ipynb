{
  "nbformat": 4,
  "nbformat_minor": 0,
  "metadata": {
    "colab": {
      "name": "0608.ipynb",
      "provenance": [],
      "authorship_tag": "ABX9TyMSLFesy+9WAdImbvjQMjIx",
      "include_colab_link": true
    },
    "kernelspec": {
      "name": "python3",
      "display_name": "Python 3"
    },
    "language_info": {
      "name": "python"
    }
  },
  "cells": [
    {
      "cell_type": "markdown",
      "metadata": {
        "id": "view-in-github",
        "colab_type": "text"
      },
      "source": [
        "<a href=\"https://colab.research.google.com/github/xiaozhuuuu/introduction-to-computers/blob/main/0608.ipynb\" target=\"_parent\"><img src=\"https://colab.research.google.com/assets/colab-badge.svg\" alt=\"Open In Colab\"/></a>"
      ]
    },
    {
      "cell_type": "code",
      "execution_count": 1,
      "metadata": {
        "id": "phsQmmvA-ZAp"
      },
      "outputs": [],
      "source": [
        "list1=[1,2,3,4]"
      ]
    },
    {
      "cell_type": "code",
      "source": [
        "list1"
      ],
      "metadata": {
        "colab": {
          "base_uri": "https://localhost:8080/"
        },
        "id": "tjCiLgPD_BwU",
        "outputId": "ac4cc9fc-fce4-421a-aee3-e7acb0ddd11a"
      },
      "execution_count": 2,
      "outputs": [
        {
          "output_type": "execute_result",
          "data": {
            "text/plain": [
              "[1, 2, 3, 4]"
            ]
          },
          "metadata": {},
          "execution_count": 2
        }
      ]
    },
    {
      "cell_type": "code",
      "source": [
        "list2=[\"香蕉\",\"蘋果\",\"橘子\"]"
      ],
      "metadata": {
        "id": "zwl_ptmN_EGO"
      },
      "execution_count": 3,
      "outputs": []
    },
    {
      "cell_type": "code",
      "source": [
        "list2"
      ],
      "metadata": {
        "colab": {
          "base_uri": "https://localhost:8080/"
        },
        "id": "uJxGAoFB_WSm",
        "outputId": "9853b96a-5cc2-4295-8e67-06df98ee20d0"
      },
      "execution_count": 4,
      "outputs": [
        {
          "output_type": "execute_result",
          "data": {
            "text/plain": [
              "['香蕉', '蘋果', '橘子']"
            ]
          },
          "metadata": {},
          "execution_count": 4
        }
      ]
    },
    {
      "cell_type": "code",
      "source": [
        "list3=[1,\"香蕉\",True]"
      ],
      "metadata": {
        "id": "MCO4yxZr_ZbC"
      },
      "execution_count": 5,
      "outputs": []
    },
    {
      "cell_type": "code",
      "source": [
        "list3"
      ],
      "metadata": {
        "colab": {
          "base_uri": "https://localhost:8080/"
        },
        "id": "lMj8ycny_iBn",
        "outputId": "f4fe06f5-b2b8-4fdb-d554-d5d51ba2c8fc"
      },
      "execution_count": 6,
      "outputs": [
        {
          "output_type": "execute_result",
          "data": {
            "text/plain": [
              "[1, '香蕉', True]"
            ]
          },
          "metadata": {},
          "execution_count": 6
        }
      ]
    },
    {
      "cell_type": "code",
      "source": [
        "list4=[]"
      ],
      "metadata": {
        "id": "kZs5b5LB_zNm"
      },
      "execution_count": 7,
      "outputs": []
    },
    {
      "cell_type": "code",
      "source": [
        "list4"
      ],
      "metadata": {
        "colab": {
          "base_uri": "https://localhost:8080/"
        },
        "id": "2Qq8I21N_1m8",
        "outputId": "a75bc332-3c5a-40b9-8988-1c36aa3b99c0"
      },
      "execution_count": 9,
      "outputs": [
        {
          "output_type": "execute_result",
          "data": {
            "text/plain": [
              "[]"
            ]
          },
          "metadata": {},
          "execution_count": 9
        }
      ]
    },
    {
      "cell_type": "code",
      "source": [
        "list1=[1,2,3,4]"
      ],
      "metadata": {
        "id": "XlQQMrkFAP-Q"
      },
      "execution_count": 10,
      "outputs": []
    },
    {
      "cell_type": "code",
      "source": [
        "print(list1)"
      ],
      "metadata": {
        "colab": {
          "base_uri": "https://localhost:8080/"
        },
        "id": "Y-74ketbATOG",
        "outputId": "728cd2a3-a9fd-409f-a666-8807cf939bdd"
      },
      "execution_count": 11,
      "outputs": [
        {
          "output_type": "stream",
          "name": "stdout",
          "text": [
            "[1, 2, 3, 4]\n"
          ]
        }
      ]
    },
    {
      "cell_type": "code",
      "source": [
        "print(list1[0])"
      ],
      "metadata": {
        "colab": {
          "base_uri": "https://localhost:8080/"
        },
        "id": "taMRz3t5AoVb",
        "outputId": "c8bca81e-0a22-441a-8352-5e84a2582241"
      },
      "execution_count": 13,
      "outputs": [
        {
          "output_type": "stream",
          "name": "stdout",
          "text": [
            "1\n"
          ]
        }
      ]
    },
    {
      "cell_type": "code",
      "source": [
        "print(list1[1])"
      ],
      "metadata": {
        "colab": {
          "base_uri": "https://localhost:8080/"
        },
        "id": "0IJ-sIprApg9",
        "outputId": "7f92d230-86c0-41a2-8a79-3c63bff0330c"
      },
      "execution_count": 14,
      "outputs": [
        {
          "output_type": "stream",
          "name": "stdout",
          "text": [
            "2\n"
          ]
        }
      ]
    },
    {
      "cell_type": "code",
      "source": [
        "print(list1[2])"
      ],
      "metadata": {
        "colab": {
          "base_uri": "https://localhost:8080/"
        },
        "id": "0C1HuCHiAr6L",
        "outputId": "be4871bc-80b9-437e-9608-7434428c3e26"
      },
      "execution_count": 15,
      "outputs": [
        {
          "output_type": "stream",
          "name": "stdout",
          "text": [
            "3\n"
          ]
        }
      ]
    },
    {
      "cell_type": "code",
      "source": [
        "print(list1[3])"
      ],
      "metadata": {
        "colab": {
          "base_uri": "https://localhost:8080/"
        },
        "id": "S61pcBGZAuMH",
        "outputId": "98c5c764-933c-4427-cb4e-1467efc8eb99"
      },
      "execution_count": 16,
      "outputs": [
        {
          "output_type": "stream",
          "name": "stdout",
          "text": [
            "4\n"
          ]
        }
      ]
    },
    {
      "cell_type": "code",
      "source": [
        "print(list1[0])\n",
        "print(list1[1])\n",
        "print(list1[2])\n",
        "print(list1[3])"
      ],
      "metadata": {
        "colab": {
          "base_uri": "https://localhost:8080/"
        },
        "id": "r0voJvRLAY9x",
        "outputId": "3fe714e6-2343-434c-e43e-9f5e7d128294"
      },
      "execution_count": 12,
      "outputs": [
        {
          "output_type": "stream",
          "name": "stdout",
          "text": [
            "1\n",
            "2\n",
            "3\n",
            "4\n"
          ]
        }
      ]
    },
    {
      "cell_type": "code",
      "source": [
        "list4=[\"香蕉\",\"蘋果\",\"橘子\"]"
      ],
      "metadata": {
        "id": "SOSZgVSyBAEe"
      },
      "execution_count": 17,
      "outputs": []
    },
    {
      "cell_type": "code",
      "source": [
        "print(list4)"
      ],
      "metadata": {
        "colab": {
          "base_uri": "https://localhost:8080/"
        },
        "id": "yg3LEgAYBE0X",
        "outputId": "61d69b62-cf58-471c-d5b5-df7803e85a47"
      },
      "execution_count": 18,
      "outputs": [
        {
          "output_type": "stream",
          "name": "stdout",
          "text": [
            "['香蕉', '蘋果', '橘子']\n"
          ]
        }
      ]
    },
    {
      "cell_type": "code",
      "source": [
        "print(list4[0])"
      ],
      "metadata": {
        "colab": {
          "base_uri": "https://localhost:8080/"
        },
        "id": "BV7isDNNBJVu",
        "outputId": "734567fb-cb0a-44cb-8a9e-d16bf292b2d6"
      },
      "execution_count": 19,
      "outputs": [
        {
          "output_type": "stream",
          "name": "stdout",
          "text": [
            "香蕉\n"
          ]
        }
      ]
    },
    {
      "cell_type": "code",
      "source": [
        "print(list4[0])\n",
        "print(list4[1])\n",
        "print(list4[2])"
      ],
      "metadata": {
        "colab": {
          "base_uri": "https://localhost:8080/"
        },
        "id": "5DOJmUB-BMbG",
        "outputId": "64184b48-41a4-4fc0-bba1-849e8dda504c"
      },
      "execution_count": 20,
      "outputs": [
        {
          "output_type": "stream",
          "name": "stdout",
          "text": [
            "香蕉\n",
            "蘋果\n",
            "橘子\n"
          ]
        }
      ]
    },
    {
      "cell_type": "code",
      "source": [
        "print(list4[-1])"
      ],
      "metadata": {
        "colab": {
          "base_uri": "https://localhost:8080/"
        },
        "id": "bJylic1gBXuj",
        "outputId": "d4ba4046-e7c5-478a-d656-bc3bdb5f64b5"
      },
      "execution_count": 21,
      "outputs": [
        {
          "output_type": "stream",
          "name": "stdout",
          "text": [
            "橘子\n"
          ]
        }
      ]
    },
    {
      "cell_type": "code",
      "source": [
        "print(list4[-1])\n",
        "print(list4[-2])\n",
        "print(list4[-3])"
      ],
      "metadata": {
        "colab": {
          "base_uri": "https://localhost:8080/"
        },
        "id": "iUgFbBqWBaAK",
        "outputId": "14544aa7-76e6-47e6-b530-f1d4481c1ad5"
      },
      "execution_count": 22,
      "outputs": [
        {
          "output_type": "stream",
          "name": "stdout",
          "text": [
            "橘子\n",
            "蘋果\n",
            "香蕉\n"
          ]
        }
      ]
    },
    {
      "cell_type": "code",
      "source": [
        "list5=[[\"tom\",\"1,2,3,4\"]],[\"mary\",\"abcd\"],[\"david\",\"5678\"]"
      ],
      "metadata": {
        "id": "JXH248MsBzi8"
      },
      "execution_count": 23,
      "outputs": []
    },
    {
      "cell_type": "code",
      "source": [
        "print(list5[1])"
      ],
      "metadata": {
        "colab": {
          "base_uri": "https://localhost:8080/"
        },
        "id": "efc-0R0TCNPW",
        "outputId": "8c753567-31c6-4ce0-b3f1-794cd78a1a71"
      },
      "execution_count": 24,
      "outputs": [
        {
          "output_type": "stream",
          "name": "stdout",
          "text": [
            "['mary', 'abcd']\n"
          ]
        }
      ]
    },
    {
      "cell_type": "code",
      "source": [
        "print(list5[0])"
      ],
      "metadata": {
        "colab": {
          "base_uri": "https://localhost:8080/"
        },
        "id": "N4p0aoftCT4c",
        "outputId": "bee9a40f-3fbb-44f2-adee-ba8e213245f9"
      },
      "execution_count": 25,
      "outputs": [
        {
          "output_type": "stream",
          "name": "stdout",
          "text": [
            "[['tom', '1,2,3,4']]\n"
          ]
        }
      ]
    },
    {
      "cell_type": "code",
      "source": [
        "print(list5[1][1])"
      ],
      "metadata": {
        "colab": {
          "base_uri": "https://localhost:8080/"
        },
        "id": "wwKstHKcCW96",
        "outputId": "a9c23478-e2f6-44f6-aa4b-d76092e6da10"
      },
      "execution_count": 26,
      "outputs": [
        {
          "output_type": "stream",
          "name": "stdout",
          "text": [
            "abcd\n"
          ]
        }
      ]
    },
    {
      "cell_type": "code",
      "source": [
        "print(list5[0])"
      ],
      "metadata": {
        "colab": {
          "base_uri": "https://localhost:8080/"
        },
        "id": "67WXoSLQCcAo",
        "outputId": "76b05b92-6c5d-4cf4-ba35-8c7e30089289"
      },
      "execution_count": 27,
      "outputs": [
        {
          "output_type": "stream",
          "name": "stdout",
          "text": [
            "[['tom', '1,2,3,4']]\n"
          ]
        }
      ]
    },
    {
      "cell_type": "code",
      "source": [
        "print(list5[0][0])"
      ],
      "metadata": {
        "colab": {
          "base_uri": "https://localhost:8080/"
        },
        "id": "4KqhKhaICe81",
        "outputId": "dee24cc4-b30c-434a-f168-6df31305b984"
      },
      "execution_count": 28,
      "outputs": [
        {
          "output_type": "stream",
          "name": "stdout",
          "text": [
            "['tom', '1,2,3,4']\n"
          ]
        }
      ]
    },
    {
      "cell_type": "code",
      "source": [
        "print(list5[1][0])"
      ],
      "metadata": {
        "colab": {
          "base_uri": "https://localhost:8080/"
        },
        "id": "AnJLhuS5CjWX",
        "outputId": "d0f3c53e-f16e-48d4-de70-6fe169e0e272"
      },
      "execution_count": 29,
      "outputs": [
        {
          "output_type": "stream",
          "name": "stdout",
          "text": [
            "mary\n"
          ]
        }
      ]
    },
    {
      "cell_type": "code",
      "source": [
        "scores=[85,79,93]"
      ],
      "metadata": {
        "id": "DJvBf62lC8lp"
      },
      "execution_count": 45,
      "outputs": []
    },
    {
      "cell_type": "code",
      "source": [
        "print(\"國文成績: %d分\" % scores[0])\n",
        "print(\"數學成績: %d分\" % scores[1])\n",
        "print(\"英文成績: %d分\" % scores[2])"
      ],
      "metadata": {
        "colab": {
          "base_uri": "https://localhost:8080/"
        },
        "id": "XOPTevgqKGg3",
        "outputId": "ba8620a9-c1ff-465e-b739-4764d7883c07"
      },
      "execution_count": 90,
      "outputs": [
        {
          "output_type": "stream",
          "name": "stdout",
          "text": [
            "國文成績: 85分\n",
            "數學成績: 79分\n",
            "英文成績: 93分\n"
          ]
        }
      ]
    },
    {
      "cell_type": "code",
      "source": [
        "list6=[1,2,3,4,5]"
      ],
      "metadata": {
        "id": "2QyeGXOQFeHn"
      },
      "execution_count": 62,
      "outputs": []
    },
    {
      "cell_type": "code",
      "source": [
        "print(list6[0])"
      ],
      "metadata": {
        "colab": {
          "base_uri": "https://localhost:8080/"
        },
        "id": "6LneDQ-gFlVA",
        "outputId": "dd24caf1-801a-41a7-d7f5-43fd39e870b4"
      },
      "execution_count": 63,
      "outputs": [
        {
          "output_type": "stream",
          "name": "stdout",
          "text": [
            "1\n"
          ]
        }
      ]
    },
    {
      "cell_type": "code",
      "source": [
        "print(list6)"
      ],
      "metadata": {
        "colab": {
          "base_uri": "https://localhost:8080/"
        },
        "id": "qgscGfsuFsgW",
        "outputId": "77dc96a3-f884-43d3-af94-3849687aa4f3"
      },
      "execution_count": 64,
      "outputs": [
        {
          "output_type": "stream",
          "name": "stdout",
          "text": [
            "[1, 2, 3, 4, 5]\n"
          ]
        }
      ]
    },
    {
      "cell_type": "code",
      "source": [
        "list6[0]=9"
      ],
      "metadata": {
        "id": "rUk4D3h3FyJ4"
      },
      "execution_count": 65,
      "outputs": []
    },
    {
      "cell_type": "code",
      "source": [
        "print(list6[0])"
      ],
      "metadata": {
        "colab": {
          "base_uri": "https://localhost:8080/"
        },
        "id": "9oE3IpqtF2TX",
        "outputId": "1a9254aa-269a-4942-9b15-11ee922cc17c"
      },
      "execution_count": 66,
      "outputs": [
        {
          "output_type": "stream",
          "name": "stdout",
          "text": [
            "9\n"
          ]
        }
      ]
    },
    {
      "cell_type": "code",
      "source": [
        "print(list6)"
      ],
      "metadata": {
        "colab": {
          "base_uri": "https://localhost:8080/"
        },
        "id": "-30H2zDuGNJh",
        "outputId": "d4903aec-54ab-4e69-aa6d-df02fdefd0fd"
      },
      "execution_count": 67,
      "outputs": [
        {
          "output_type": "stream",
          "name": "stdout",
          "text": [
            "[9, 2, 3, 4, 5]\n"
          ]
        }
      ]
    },
    {
      "cell_type": "code",
      "source": [
        "list7=[\"香蕉\",\"蘋果\",\"橘子\"]"
      ],
      "metadata": {
        "id": "AOTt2KaYGeFm"
      },
      "execution_count": 68,
      "outputs": []
    },
    {
      "cell_type": "code",
      "source": [
        "print(list7)"
      ],
      "metadata": {
        "colab": {
          "base_uri": "https://localhost:8080/"
        },
        "id": "6IN3CH_eGgID",
        "outputId": "cbc94396-9b32-4336-fa6a-0ba126a4b0ff"
      },
      "execution_count": 69,
      "outputs": [
        {
          "output_type": "stream",
          "name": "stdout",
          "text": [
            "['香蕉', '蘋果', '橘子']\n"
          ]
        }
      ]
    },
    {
      "cell_type": "code",
      "source": [
        "for s in list7:\n",
        "  print(s, end=\",\")"
      ],
      "metadata": {
        "colab": {
          "base_uri": "https://localhost:8080/"
        },
        "id": "jIc6XcoJGkIh",
        "outputId": "e1856347-0b59-41c1-96b5-ae54843535fe"
      },
      "execution_count": 70,
      "outputs": [
        {
          "output_type": "stream",
          "name": "stdout",
          "text": [
            "香蕉,蘋果,橘子,"
          ]
        }
      ]
    },
    {
      "cell_type": "code",
      "source": [
        "scores=[85,79,93]\n",
        "print(len(scores))"
      ],
      "metadata": {
        "colab": {
          "base_uri": "https://localhost:8080/"
        },
        "id": "Y5gLVnXcG2Sn",
        "outputId": "18eb499e-5320-495e-fa91-c14908ae016e"
      },
      "execution_count": 72,
      "outputs": [
        {
          "output_type": "stream",
          "name": "stdout",
          "text": [
            "3\n"
          ]
        }
      ]
    },
    {
      "cell_type": "code",
      "source": [
        "scores=[85,79,93,50]\n",
        "print(len(scores))"
      ],
      "metadata": {
        "colab": {
          "base_uri": "https://localhost:8080/"
        },
        "id": "whmDk7C2HCma",
        "outputId": "e9eaa028-0085-4505-cf65-9f934210ba5a"
      },
      "execution_count": 73,
      "outputs": [
        {
          "output_type": "stream",
          "name": "stdout",
          "text": [
            "4\n"
          ]
        }
      ]
    },
    {
      "cell_type": "code",
      "source": [
        "scores=[85,79,93]\n",
        "for i in range(len(scores)):\n",
        "  print(scores[i])"
      ],
      "metadata": {
        "colab": {
          "base_uri": "https://localhost:8080/"
        },
        "id": "HNaGGN1GHNfe",
        "outputId": "1d65674b-6d8a-4577-e416-079e93b13619"
      },
      "execution_count": 74,
      "outputs": [
        {
          "output_type": "stream",
          "name": "stdout",
          "text": [
            "85\n",
            "79\n",
            "93\n"
          ]
        }
      ]
    },
    {
      "cell_type": "code",
      "source": [
        "scores=[85,79,93]\n",
        "for i in range(len(scores)):\n",
        "  print(\"國文成績\",scores[0],\"數學成績\",scores[1],\"英文成績\",scores[2])"
      ],
      "metadata": {
        "colab": {
          "base_uri": "https://localhost:8080/"
        },
        "id": "WogVJub_Mf-7",
        "outputId": "6cd78d96-5836-4450-cf66-d6431eca947b"
      },
      "execution_count": 99,
      "outputs": [
        {
          "output_type": "stream",
          "name": "stdout",
          "text": [
            "國文成績 85 數學成績 79 英文成績 93\n",
            "國文成績 85 數學成績 79 英文成績 93\n",
            "國文成績 85 數學成績 79 英文成績 93\n"
          ]
        }
      ]
    },
    {
      "cell_type": "code",
      "source": [
        "name=[\"tom\",\"mary\",\"tony\"]"
      ],
      "metadata": {
        "id": "smWrSrXuN6UC"
      },
      "execution_count": 102,
      "outputs": []
    },
    {
      "cell_type": "code",
      "source": [
        "name=[\"tom\",\"mary\",\"tony\"]\n",
        "for j in range(len(name)):\n",
        "  print(\"編號1 姓名：\",name[0],\"編號2 姓名：\",name[1],\"編號3 姓名：\",name[2])"
      ],
      "metadata": {
        "colab": {
          "base_uri": "https://localhost:8080/"
        },
        "id": "XcjJXSyANTHn",
        "outputId": "93a7b92f-4706-4638-bc44-16bc1fb62c54"
      },
      "execution_count": 103,
      "outputs": [
        {
          "output_type": "stream",
          "name": "stdout",
          "text": [
            "編號1 姓名： tom 編號2 姓名： mary 編號3 姓名： tony\n",
            "編號1 姓名： tom 編號2 姓名： mary 編號3 姓名： tony\n",
            "編號1 姓名： tom 編號2 姓名： mary 編號3 姓名： tony\n"
          ]
        }
      ]
    }
  ]
}