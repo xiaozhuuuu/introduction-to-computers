{
  "nbformat": 4,
  "nbformat_minor": 0,
  "metadata": {
    "colab": {
      "name": "0511.ipynb",
      "provenance": [],
      "authorship_tag": "ABX9TyOjjhrPr47+tPAAUo+CUrUx",
      "include_colab_link": true
    },
    "kernelspec": {
      "name": "python3",
      "display_name": "Python 3"
    },
    "language_info": {
      "name": "python"
    }
  },
  "cells": [
    {
      "cell_type": "markdown",
      "metadata": {
        "id": "view-in-github",
        "colab_type": "text"
      },
      "source": [
        "<a href=\"https://colab.research.google.com/github/xiaozhuuuu/introduction-to-computers/blob/main/0511.ipynb\" target=\"_parent\"><img src=\"https://colab.research.google.com/assets/colab-badge.svg\" alt=\"Open In Colab\"/></a>"
      ]
    },
    {
      "cell_type": "code",
      "execution_count": 2,
      "metadata": {
        "colab": {
          "base_uri": "https://localhost:8080/"
        },
        "id": "0Kw_3KcrhXxL",
        "outputId": "f29c3f63-f30b-4076-e8b6-ca12a16c4322"
      },
      "outputs": [
        {
          "output_type": "stream",
          "name": "stdout",
          "text": [
            "test\n"
          ]
        }
      ],
      "source": [
        "print('test')"
      ]
    },
    {
      "cell_type": "code",
      "source": [
        "temp=float(input('請輸入你的體溫'))\n",
        "if temp >= 37.5:\n",
        "   print('體溫過高')\n",
        "elif temp >= 37 and temp<= 37.4:\n",
        "   print('體溫略高')\n",
        "elif temp >= 34 and temp < 36.9:\n",
        "   print('體溫正常')\n",
        "else:\n",
        "   print('體溫異常，請重新測量')"
      ],
      "metadata": {
        "colab": {
          "base_uri": "https://localhost:8080/"
        },
        "id": "ENuXrLKrhkvz",
        "outputId": "c1047f94-0c3d-4818-f490-2dc1da103943"
      },
      "execution_count": 4,
      "outputs": [
        {
          "output_type": "stream",
          "name": "stdout",
          "text": [
            "請輸入你的體溫35\n",
            "體溫正常\n"
          ]
        }
      ]
    },
    {
      "cell_type": "code",
      "source": [
        "money=int(input('請輸入購物金額'))\n",
        "if (money >= 10000):\n",
        "   if (money >= 100000):\n",
        "     print('八折',money*0.8, end='元\\n')\n",
        "   elif (money >=50000):\n",
        "     print('八五折',money*0.85, end='元\\n')\n",
        "   elif (money >=30000):\n",
        "     print('九折',money*0.9, end ='元\\n')\n",
        "   else:\n",
        "     print('九五折',money*0.95, end = '元\\n')\n",
        "else:\n",
        "  print('沒打折',money, end='元\\n')"
      ],
      "metadata": {
        "colab": {
          "base_uri": "https://localhost:8080/"
        },
        "id": "mVVwjKkKiz2m",
        "outputId": "8c416586-a21e-46a6-c702-6c98161f310b"
      },
      "execution_count": 6,
      "outputs": [
        {
          "output_type": "stream",
          "name": "stdout",
          "text": [
            "請輸入購物金額50000\n",
            "八五折 42500.0元\n"
          ]
        }
      ]
    },
    {
      "cell_type": "code",
      "source": [
        "grade=int(input('請輸入成績'))\n",
        "if (grade >=90):\n",
        "  print('A')\n",
        "elif (grade >=80 and grade <=89):\n",
        "  print('B')\n",
        "elif (grade >=70 and grade <=79):\n",
        "  print('C')\n",
        "elif (grade >=60 and grade <=69):\n",
        "  print('D')\n",
        "else:\n",
        "  print('E')"
      ],
      "metadata": {
        "colab": {
          "base_uri": "https://localhost:8080/"
        },
        "id": "UwhmLkuvk4AA",
        "outputId": "9b49cbd7-d0b9-4697-e2a4-940af1f09b8a"
      },
      "execution_count": 9,
      "outputs": [
        {
          "output_type": "stream",
          "name": "stdout",
          "text": [
            "請輸入成績65\n",
            "D\n"
          ]
        }
      ]
    },
    {
      "cell_type": "code",
      "source": [
        "season=int(intput('請輸入月份'))\n",
        "if(season = 1 or season = 2 or season = 3):\n",
        "   print('月是春天')\n",
        "elif(season =4 or season =5 or season =6):\n",
        "   print('月是夏天')\n",
        "elif(season =7 or season =8 or season =9);\n",
        "   print('月是秋天') \n",
        "else:\n",
        "   print('月是冬天')"
      ],
      "metadata": {
        "colab": {
          "base_uri": "https://localhost:8080/",
          "height": 130
        },
        "id": "gLbu8PDSmzYA",
        "outputId": "37c20349-1a05-40bd-ed3c-220f00bc17d2"
      },
      "execution_count": 12,
      "outputs": [
        {
          "output_type": "error",
          "ename": "SyntaxError",
          "evalue": "ignored",
          "traceback": [
            "\u001b[0;36m  File \u001b[0;32m\"<ipython-input-12-c74873e88d46>\"\u001b[0;36m, line \u001b[0;32m2\u001b[0m\n\u001b[0;31m    if(season = 1 or season = 2 or season = 3):\u001b[0m\n\u001b[0m              ^\u001b[0m\n\u001b[0;31mSyntaxError\u001b[0m\u001b[0;31m:\u001b[0m invalid syntax\n"
          ]
        }
      ]
    },
    {
      "cell_type": "code",
      "source": [
        "tax=int(input('請輸入今年收入淨額'))\n",
        "if(tax >= 2000000):\n",
        "  print('付稅金額為',tax*0.3, end='元\\n')\n",
        "elif(tax >=1000000 and tax <=1999999):\n",
        "  print('付稅金額為',tax*0.21, end='元\\n')\n",
        "elif(tax >=600000 and tax<=999999):\n",
        "  print('付稅金額為',tax*0.13, end='元\\n')\n",
        "else:\n",
        "  print('付稅金額為',tax*0.06, end='元\\n')"
      ],
      "metadata": {
        "colab": {
          "base_uri": "https://localhost:8080/"
        },
        "id": "pNKI9h9KoZwX",
        "outputId": "4f74f53c-d6b8-4a11-9164-d6739fd37773"
      },
      "execution_count": 18,
      "outputs": [
        {
          "output_type": "stream",
          "name": "stdout",
          "text": [
            "請輸入今年收入淨額2000000\n",
            "付稅金額為 600000.0元\n"
          ]
        }
      ]
    }
  ]
}